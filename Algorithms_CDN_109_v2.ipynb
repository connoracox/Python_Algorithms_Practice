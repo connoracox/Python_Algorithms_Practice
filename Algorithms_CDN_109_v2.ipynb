{
 "cells": [
  {
   "cell_type": "markdown",
   "metadata": {},
   "source": [
    "# Classic Algorithms"
   ]
  },
  {
   "cell_type": "markdown",
   "metadata": {},
   "source": [
    "## Tasks Today:\n",
    " \n",
    "1) <b>In-Place Algorithms</b> <br>\n",
    " &nbsp;&nbsp;&nbsp;&nbsp; a) Syntax <br>\n",
    " &nbsp;&nbsp;&nbsp;&nbsp; a) Out of Place Algorithm <br>\n",
    " &nbsp;&nbsp;&nbsp;&nbsp; b) In-Class Exercise #1 <br>\n",
    "2) <b>Two Pointers</b> <br>\n",
    "3) <b>Sorting Algorithms</b> <br>\n",
    "4) <b>Merge Sort</b> <br>\n",
    " &nbsp;&nbsp;&nbsp;&nbsp; a) Video on Algorithms <br>\n",
    " &nbsp;&nbsp;&nbsp;&nbsp; b) How it Works <br>\n",
    "5) <b>Exercises</b> <br>\n",
    " &nbsp;&nbsp;&nbsp;&nbsp; a) Exercise #1 - Reverse a List in Place Using an In-Place Algorithm <br>\n",
    " &nbsp;&nbsp;&nbsp;&nbsp; b) Exercise #2 - Find Distinct Words <br>\n",
    " &nbsp;&nbsp;&nbsp;&nbsp; c) Exercise #3 - Write a program to implement a Linear Search Algorithm. <br>"
   ]
  },
  {
   "cell_type": "markdown",
   "metadata": {},
   "source": [
    "## In-Place Algorithms"
   ]
  },
  {
   "cell_type": "markdown",
   "metadata": {},
   "source": [
    "#### Syntax"
   ]
  },
  {
   "cell_type": "code",
   "execution_count": 2,
   "metadata": {},
   "outputs": [
    {
     "name": "stdout",
     "output_type": "stream",
     "text": [
      "[1, 5, 3, 4, 2]\n"
     ]
    }
   ],
   "source": [
    "# an algorithm that modifies an input parameter's value,\n",
    "# such that the changes inside of the algorithm function\n",
    "# reflect in the variable, outside of the function\n",
    "\n",
    "a_list = [1,2,3,4,5]\n",
    "\n",
    "def swap(input_list, i, j):\n",
    "    temp = input_list[i]\n",
    "    input_list[i] = input_list[j]\n",
    "    input_list[j] = temp\n",
    "    \n",
    "    return input_list\n",
    "\n",
    "swap(a_list, 1, 4)\n",
    "\n",
    "print(a_list)"
   ]
  },
  {
   "cell_type": "code",
   "execution_count": 5,
   "metadata": {},
   "outputs": [
    {
     "name": "stdout",
     "output_type": "stream",
     "text": [
      "[1, 5, 3, 4, 2]\n"
     ]
    }
   ],
   "source": [
    "a_list = [1,2,3,4,5]\n",
    "\n",
    "def swap(input_list, i, j):\n",
    "    input_list[i], input_list[j] = input_list[j], input_list[i]\n",
    "    \n",
    "    return input_list\n",
    "\n",
    "swap(a_list, 1, 4)\n",
    "                                        \n",
    "print(a_list)"
   ]
  },
  {
   "cell_type": "code",
   "execution_count": null,
   "metadata": {},
   "outputs": [],
   "source": [
    "a_list = [[1, 2], [3, 4], [5, 6]]\n",
    "\n",
    "def swap_sublist(input_list, inner_list, i, j):\n",
    "    "
   ]
  },
  {
   "cell_type": "markdown",
   "metadata": {},
   "source": [
    "#### Out of Place Algorithm"
   ]
  },
  {
   "cell_type": "code",
   "execution_count": 6,
   "metadata": {},
   "outputs": [
    {
     "name": "stdout",
     "output_type": "stream",
     "text": [
      "[1, 2, 3, 4, 5]\n",
      "[1, 5, 3, 4, 2]\n"
     ]
    }
   ],
   "source": [
    "# an out of place algo, is an algo that DOES NOT modify the passed in variable\n",
    "\n",
    "a_list = [1,2,3,4,5]\n",
    "\n",
    "def swap(input_list, i, j):\n",
    "    input_list = input_list[:]\n",
    "    input_list[i], input_list[j] = input_list[j], input_list[i]\n",
    "    \n",
    "    return input_list\n",
    "\n",
    "swapped_list = swap(a_list, 1, 4)\n",
    "                                        \n",
    "print(a_list)\n",
    "print(swapped_list)"
   ]
  },
  {
   "cell_type": "markdown",
   "metadata": {},
   "source": [
    "#### In-Class Exercise #1 <br>\n",
    "<p>Write a function that takes in four arguments (list, index1, index2, index3), and swaps those three positions in the list passed in.</p>"
   ]
  },
  {
   "cell_type": "code",
   "execution_count": 2,
   "metadata": {},
   "outputs": [
    {
     "name": "stdout",
     "output_type": "stream",
     "text": [
      "[1, 4, 2, 3, 5]\n"
     ]
    }
   ],
   "source": [
    "a_list = [1,2,3,4,5]\n",
    "\n",
    "def swap(input_list, i, j, k):\n",
    "    input_list = input_list[:]\n",
    "    input_list[i], input_list[j], input_list[k] = input_list[k], input_list[i], input_list[j]\n",
    "    \n",
    "    return input_list\n",
    "\n",
    "swapped_list = swap(a_list, 1, 2, 3)\n",
    "    \n",
    "print(swapped_list)\n",
    "                                        \n"
   ]
  },
  {
   "cell_type": "code",
   "execution_count": 9,
   "metadata": {},
   "outputs": [
    {
     "name": "stdout",
     "output_type": "stream",
     "text": [
      "[1, 4, 2, 3, 5]\n"
     ]
    }
   ],
   "source": [
    "a_list = [1,2,3,4,5]\n",
    "\n",
    "def swap(input_list, i, j, k):\n",
    "    input_list[i], input_list[j], input_list[k] = input_list[k], input_list[i], input_list[j]\n",
    "    \n",
    "    return input_list\n",
    "                                        \n",
    "print(a_list)"
   ]
  },
  {
   "cell_type": "markdown",
   "metadata": {},
   "source": [
    "## Two Pointers"
   ]
  },
  {
   "cell_type": "markdown",
   "metadata": {},
   "source": [
    "#### Syntax"
   ]
  },
  {
   "cell_type": "code",
   "execution_count": 3,
   "metadata": {},
   "outputs": [],
   "source": [
    "# reverse a list\n",
    "\n",
    "a_list = [1,2,3,4,5]\n",
    "#        [5,2,3,4,1] 1st iteration\n",
    "#        [5,4,3,2,1] 2nd iteration\n",
    "\n",
    "def reverse(a_list):\n",
    "    left = 0\n",
    "    right = len(a_list) - 1\n",
    "    \n",
    "    while left <= right:\n",
    "        a_list[left], a_list[right] = a_list[right], a_list[left]\n",
    "        left += 1\n",
    "        right -= 1\n",
    "        \n",
    "    return a_list\n",
    "\n",
    "        \n",
    "    \n",
    "    "
   ]
  },
  {
   "cell_type": "code",
   "execution_count": 4,
   "metadata": {},
   "outputs": [
    {
     "name": "stdout",
     "output_type": "stream",
     "text": [
      "[5, 4, 3, 2, 1]\n"
     ]
    }
   ],
   "source": [
    "print(reverse(a_list))"
   ]
  },
  {
   "cell_type": "markdown",
   "metadata": {},
   "source": [
    "# Two Sum"
   ]
  },
  {
   "cell_type": "code",
   "execution_count": 17,
   "metadata": {},
   "outputs": [
    {
     "name": "stdout",
     "output_type": "stream",
     "text": [
      "[2, 5]\n"
     ]
    }
   ],
   "source": [
    "# The two sum problem is stated as follows: given an unsorted list and a number target, \n",
    "# the pair of numbers in that list such that their sum equals target.\n",
    "# For example, if the list is [3,5,2,−4,8,] and the value of target is 7, \n",
    "# then the program should return pair (2,5) since  and 2+5 are equal to 7.\n",
    "\n",
    "def two_sum(a_list, target):\n",
    "    i, j = 0, 1\n",
    "    while a_list[i] + a_list[j] != target:\n",
    "        i += 1 \n",
    "        j += 1\n",
    "        \n",
    "    return [a_list[j], a_list[i]]\n",
    "        \n",
    "print(two_sum([3,5,2,-4,8], 7)) # Should return [2, 5]"
   ]
  },
  {
   "cell_type": "code",
   "execution_count": null,
   "metadata": {},
   "outputs": [],
   "source": []
  },
  {
   "cell_type": "code",
   "execution_count": 18,
   "metadata": {},
   "outputs": [
    {
     "name": "stdout",
     "output_type": "stream",
     "text": [
      "[5, 2]\n"
     ]
    }
   ],
   "source": [
    "def two_sum(a_list, target):\n",
    "    for i in range(len(a_list)):\n",
    "        for j in range(i + 1, len(a_list)):\n",
    "            if a_list[i] + a_list[j] == target:\n",
    "                return [a_list[i], a_list[j]]\n",
    "\n",
    "print(two_sum([3,5,2,-4,8], 7))\n"
   ]
  },
  {
   "cell_type": "code",
   "execution_count": 19,
   "metadata": {},
   "outputs": [
    {
     "name": "stdout",
     "output_type": "stream",
     "text": [
      "[2, 5]\n"
     ]
    }
   ],
   "source": [
    "def two_sum(a_list, target):\n",
    "    num_dict = {}\n",
    "    \n",
    "    for i in range(len(a_list)):\n",
    "        if target - a_list[i] in num_dict:\n",
    "            return [a_list[i], target - a_list[i]]\n",
    "        \n",
    "        num_dict[a_list[i]] = i\n",
    "        \n",
    "print(two_sum([3,5,2,-4,8], 7))"
   ]
  },
  {
   "cell_type": "markdown",
   "metadata": {},
   "source": [
    "#### Video of Algorithms <br>\n",
    "<p>Watch the video about algorithms.</p>\n",
    "\n",
    "https://www.youtube.com/watch?v=Q9HjeFD62Uk\n",
    "\n",
    "https://www.youtube.com/watch?v=kPRA0W1kECg\n",
    "\n",
    "https://www.youtube.com/watch?v=ZZuD6iUe3Pc"
   ]
  },
  {
   "cell_type": "markdown",
   "metadata": {},
   "source": [
    "# Sorting Algorithms"
   ]
  },
  {
   "cell_type": "markdown",
   "metadata": {},
   "source": [
    "#### Bubble Sort\n",
    "\n",
    "Worst Case: O(n^2) Time - O(1) Space"
   ]
  },
  {
   "cell_type": "code",
   "execution_count": 26,
   "metadata": {},
   "outputs": [
    {
     "data": {
      "text/plain": [
       "[-21, 0, 2, 12, 54, 674]"
      ]
     },
     "execution_count": 26,
     "metadata": {},
     "output_type": "execute_result"
    }
   ],
   "source": [
    "# Define an index i at 0, and an index j at i + 1\n",
    "# create a while loop, that runs until the list is sorted\n",
    "# Compare the values at i and j to see if the value at i is greater than j\n",
    "# if it is, swap the values. If it is not, leave the values alone.\n",
    "# increment i and j, until j is greater than the index of the last unsorted element\n",
    "# reset i and j to the beginning\n",
    "# If we go through the entire list and do not swap any elements, the list is sorted\n",
    "# and we can exit the loop\n",
    "\n",
    "def bubble_sort(a_list):\n",
    "    i, j = 0, 1\n",
    "    last_unsorted = len(a_list)\n",
    "    is_sorted = False\n",
    "    \n",
    "    while not is_sorted:\n",
    "        is_sorted = True\n",
    "        while j < last_unsorted:\n",
    "            if a_list[i] > a_list[j]:\n",
    "                # swap items\n",
    "                a_list[i], a_list[j] = a_list[j], a_list[i]\n",
    "                is_sorted = False\n",
    "\n",
    "            i += 1\n",
    "            j += 1\n",
    "            \n",
    "        last_unsorted = j - 1\n",
    "        i = 0\n",
    "        j = 1\n",
    "        \n",
    "    return a_list\n",
    "\n",
    "bubble_sort([12 ,54 ,674 , -21, 2, 0])"
   ]
  },
  {
   "cell_type": "markdown",
   "metadata": {},
   "source": [
    "##### Insertion Sort\n",
    "\n",
    "Worst Case: O(n^2) time - O(1)space"
   ]
  },
  {
   "cell_type": "code",
   "execution_count": 27,
   "metadata": {},
   "outputs": [
    {
     "data": {
      "text/plain": [
       "[-21, 0, 2, 12, 54, 674]"
      ]
     },
     "execution_count": 27,
     "metadata": {},
     "output_type": "execute_result"
    }
   ],
   "source": [
    "# Define an index i at 0, and an index j at i + 1\n",
    "# create a while loop, that runs until the list is sorted\n",
    "# Compare the values at i and j to see if the value at i is greater than j\n",
    "# if it is, increase i by 1. If it is not, leave the values alone.\n",
    "\n",
    "# To sort an array(list) of size N in ascending order\n",
    "# iterate from arr[1] to arr[N] over the array\n",
    "#compare the current element (key) to it's predecessor\n",
    "# if the key element is smaller than the predecessor, compare it to the elements before\n",
    "# move the greater elements one position up to make space for swapped element\n",
    "\n",
    "def insertion_sort(a_list):\n",
    "    i, j = 0, 1\n",
    "    last_unsorted = len(a_list)\n",
    "    is_sorted = False\n",
    "    \n",
    "    while not is_sorted:\n",
    "        is_sorted = True\n",
    "        while j < last_unsorted:\n",
    "            if a_list[i] > a_list[j]:\n",
    "                # swap items\n",
    "                a_list[i], a_list[j] = a_list[j], a_list[i]\n",
    "                is_sorted = False\n",
    "\n",
    "            i += 1\n",
    "            j += 1\n",
    "            \n",
    "        last_unsorted = j - 1\n",
    "        i = 0\n",
    "        j = 1\n",
    "        \n",
    "    return a_list\n",
    "\n",
    "bubble_sort([12 ,54 ,674 , -21, 2, 0])"
   ]
  },
  {
   "cell_type": "code",
   "execution_count": null,
   "metadata": {},
   "outputs": [],
   "source": [
    "def insertion_sort(a_list):\n",
    "    i = 1\n",
    "    last_unsorted = len(a_list)\n",
    "    is_sorted = False\n",
    "    while not is_sorted:\n",
    "        is_sorted = True\n",
    "        i = 1\n",
    "        while i < last_unsorted:\n",
    "            j = i - 1\n",
    "            while j >= 0 and a_list[j] > a_list[j + 1]:\n",
    "                a_list[j + 1], a_list[j] = a_list[j], a_list[j + 1]\n",
    "                j -= 1\n",
    "                is_sorted = False\n",
    "            i += 1\n",
    "        last_unsorted -= 1\n",
    "    return a_list\n",
    "insertion_sort([1,6,3,8,5,11,9,22,15])"
   ]
  },
  {
   "cell_type": "markdown",
   "metadata": {},
   "source": [
    "## Merge Sort"
   ]
  },
  {
   "cell_type": "markdown",
   "metadata": {},
   "source": [
    "#### How it Works"
   ]
  },
  {
   "cell_type": "code",
   "execution_count": null,
   "metadata": {},
   "outputs": [],
   "source": []
  },
  {
   "cell_type": "markdown",
   "metadata": {},
   "source": [
    "## Binary Search Trees"
   ]
  },
  {
   "cell_type": "code",
   "execution_count": null,
   "metadata": {},
   "outputs": [],
   "source": []
  },
  {
   "cell_type": "markdown",
   "metadata": {},
   "source": [
    "#### In Class Assignment Level Master:\n",
    "invert the binary tree (Reverse it)"
   ]
  },
  {
   "cell_type": "code",
   "execution_count": null,
   "metadata": {},
   "outputs": [],
   "source": []
  },
  {
   "cell_type": "markdown",
   "metadata": {},
   "source": [
    "# Exercises"
   ]
  },
  {
   "cell_type": "markdown",
   "metadata": {},
   "source": [
    "### Exercise #1 <br>\n",
    "<p>Reverse the list below in-place using an in-place algorithm.<br>Reverse the strings at the same time.</p>"
   ]
  },
  {
   "cell_type": "code",
   "execution_count": 5,
   "metadata": {},
   "outputs": [
    {
     "data": {
      "text/plain": [
       "['.', 'ecnetnes', 'a', 'si', 'siht']"
      ]
     },
     "execution_count": 5,
     "metadata": {},
     "output_type": "execute_result"
    }
   ],
   "source": [
    "words = ['this' , 'is', 'a', 'sentence', '.']\n",
    "\n",
    "# reverse a list\n",
    "\n",
    "def reverse(a_list):\n",
    "    left = 0\n",
    "    right = len(a_list) - 1\n",
    "\n",
    "    while left <= right:\n",
    "        a_list[left], a_list[right] = a_list[right], a_list[left]\n",
    "        left += 1\n",
    "        right -= 1\n",
    "    rev_str = [i[::-1] for i in a_list]\n",
    "    return rev_str\n",
    "    \n",
    "    \n",
    "#     for i in a_list:\n",
    "#         a_list.append(i[::-1])\n",
    "    \n",
    "#          return a_list\n",
    "\n",
    "reverse(words)\n",
    "\n",
    "\n"
   ]
  },
  {
   "cell_type": "markdown",
   "metadata": {},
   "source": [
    "### Exercise #2 <br>\n",
    "<p>Create a function that counts how many distinct words are in the string below, then outputs a dictionary with the words as the key and the value as the amount of times that word appears in the string.<br>Should output:<br>{'a': 5,<br>\n",
    " 'abstract': 1,<br>\n",
    " 'an': 3,<br>\n",
    " 'array': 2, ... etc...</p>"
   ]
  },
  {
   "cell_type": "code",
   "execution_count": 5,
   "metadata": {},
   "outputs": [
    {
     "data": {
      "text/plain": [
       "{'In': 1,\n",
       " 'computing,': 1,\n",
       " 'a': 4,\n",
       " 'hash': 4,\n",
       " 'table': 2,\n",
       " 'map': 2,\n",
       " 'is': 1,\n",
       " 'data': 2,\n",
       " 'structure': 2,\n",
       " 'which': 2,\n",
       " 'implements': 1,\n",
       " 'an': 3,\n",
       " 'associative': 1,\n",
       " 'array': 2,\n",
       " 'abstract': 1,\n",
       " 'type,': 1,\n",
       " 'that': 1,\n",
       " 'can': 2,\n",
       " 'keys': 1,\n",
       " 'to': 2,\n",
       " 'values.': 1,\n",
       " 'A': 1,\n",
       " 'uses': 1,\n",
       " 'function': 1,\n",
       " 'compute': 1,\n",
       " 'index': 1,\n",
       " 'into': 1,\n",
       " 'of': 1,\n",
       " 'buckets': 1,\n",
       " 'or': 1,\n",
       " 'slots': 1,\n",
       " 'from': 1,\n",
       " 'the': 1,\n",
       " 'desired': 1,\n",
       " 'value': 1,\n",
       " 'be': 1,\n",
       " 'found': 1}"
      ]
     },
     "execution_count": 5,
     "metadata": {},
     "output_type": "execute_result"
    }
   ],
   "source": [
    "a_text = 'In computing, a hash table hash map is a data structure which implements an associative array abstract data type, a structure that can map keys to values. A hash table uses a hash function to compute an index into an array of buckets or slots from which the desired value can be found'\n",
    "\n",
    "\n",
    "def distinct(string):\n",
    "    dict = {}\n",
    "    string = list(string.split(\" \"))\n",
    "    \n",
    "    for word in string:\n",
    "        if word in dict:\n",
    "            dict[word] += 1\n",
    "        else:\n",
    "            dict[word] = 1\n",
    "    return dict\n",
    "        \n",
    "        \n",
    "\n",
    "distinct(a_text)\n",
    "            \n",
    "#if word in count :\n",
    "#       count[word] += 1\n",
    "#    else:\n",
    "#       count[word] = 1            "
   ]
  },
  {
   "cell_type": "markdown",
   "metadata": {},
   "source": [
    "## Exercise #3\n",
    "\n",
    "Write a program to implement a Linear Search Algorithm.\n",
    "\n",
    "#### Hint: Linear Searching will require searching a list for a given number. "
   ]
  },
  {
   "cell_type": "code",
   "execution_count": 4,
   "metadata": {},
   "outputs": [
    {
     "data": {
      "text/plain": [
       "3"
      ]
     },
     "execution_count": 4,
     "metadata": {},
     "output_type": "execute_result"
    }
   ],
   "source": [
    "nums_list = [10,23,45,70,11,15]\n",
    "target = 70\n",
    "\n",
    "# If number is not present return -1\n",
    "# Searching an element in a list/array in python\n",
    "# can be simply done using \\'in\\' operator\n",
    "# Example:\n",
    "# if x in arr:\n",
    "#   print arr.index(x)\n",
    " \n",
    "# If you want to implement Linear Search in python\n",
    " \n",
    "# Linearly search x in arr[]\n",
    "# If x is present then return its location\n",
    "# else return -1\n",
    "\n",
    "def searching(a_list, target):\n",
    "    \n",
    "    for i in range(len(a_list)):\n",
    "        \n",
    "        if a_list[i] == target:\n",
    "            return i\n",
    "    \n",
    "    return -1\n",
    "        \n",
    "searching(nums_list, 70)\n",
    "            "
   ]
  },
  {
   "cell_type": "code",
   "execution_count": 3,
   "metadata": {},
   "outputs": [
    {
     "data": {
      "text/plain": [
       "3"
      ]
     },
     "execution_count": 3,
     "metadata": {},
     "output_type": "execute_result"
    }
   ],
   "source": []
  },
  {
   "cell_type": "code",
   "execution_count": null,
   "metadata": {},
   "outputs": [],
   "source": []
  }
 ],
 "metadata": {
  "kernelspec": {
   "display_name": "Python 3",
   "language": "python",
   "name": "python3"
  },
  "language_info": {
   "codemirror_mode": {
    "name": "ipython",
    "version": 3
   },
   "file_extension": ".py",
   "mimetype": "text/x-python",
   "name": "python",
   "nbconvert_exporter": "python",
   "pygments_lexer": "ipython3",
   "version": "3.9.7 (v3.9.7:1016ef3790, Aug 30 2021, 16:25:35) \n[Clang 12.0.5 (clang-1205.0.22.11)]"
  },
  "vscode": {
   "interpreter": {
    "hash": "aee8b7b246df8f9039afb4144a1f6fd8d2ca17a180786b69acc140d282b71a49"
   }
  }
 },
 "nbformat": 4,
 "nbformat_minor": 2
}
